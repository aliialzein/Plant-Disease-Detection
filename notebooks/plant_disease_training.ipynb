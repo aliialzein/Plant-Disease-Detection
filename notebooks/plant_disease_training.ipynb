{
 "cells": [
  {
   "cell_type": "code",
   "execution_count": 1,
   "metadata": {
    "colab": {
     "base_uri": "https://localhost:8080/"
    },
    "executionInfo": {
     "elapsed": 24112,
     "status": "ok",
     "timestamp": 1746427545835,
     "user": {
      "displayName": "Ali",
      "userId": "14826493444208577740"
     },
     "user_tz": -180
    },
    "id": "Beg0Gl9CVyhm",
    "outputId": "c106db32-3ef2-45bf-f22a-b1a0fcb24cb2"
   },
   "outputs": [
    {
     "name": "stdout",
     "output_type": "stream",
     "text": [
      "Mounted at /content/drive\n"
     ]
    }
   ],
   "source": [
    "from google.colab import drive\n",
    "drive.mount('/content/drive')"
   ]
  },
  {
   "cell_type": "code",
   "execution_count": null,
   "metadata": {
    "colab": {
     "base_uri": "https://localhost:8080/"
    },
    "executionInfo": {
     "elapsed": 22080,
     "status": "ok",
     "timestamp": 1746384205314,
     "user": {
      "displayName": "Ali",
      "userId": "14826493444208577740"
     },
     "user_tz": -180
    },
    "id": "C2fFrcMKV-mV",
    "outputId": "82c26d22-0a08-4b6b-dafe-fee36cf4c3d2"
   },
   "outputs": [
    {
     "name": "stdout",
     "output_type": "stream",
     "text": [
      "Files to extract: 41278\n",
      "⏭️ Skipped (already exists): Tomato__Target_Spot\n",
      "⏭️ Skipped (already exists): Tomato_Leaf_Mold\n",
      "⏭️ Skipped (already exists): Tomato__Tomato_YellowLeaf__Curl_Virus\n",
      "⏭️ Skipped (already exists): Pepper__bell___healthy\n",
      "⏭️ Skipped (already exists): Tomato__Tomato_mosaic_virus\n",
      "⏭️ Skipped (already exists): Tomato_Late_blight\n",
      "⏭️ Skipped (already exists): Tomato_Spider_mites_Two_spotted_spider_mite\n",
      "⏭️ Skipped (already exists): Potato___Early_blight\n",
      "⏭️ Skipped (already exists): Tomato_Bacterial_spot\n",
      "⏭️ Skipped (already exists): Pepper__bell___Bacterial_spot\n",
      "⏭️ Skipped (already exists): Potato___healthy\n",
      "⏭️ Skipped (already exists): Tomato_Early_blight\n",
      "⏭️ Skipped (already exists): Tomato_healthy\n",
      "⏭️ Skipped (already exists): Tomato_Septoria_leaf_spot\n",
      "⏭️ Skipped (already exists): Potato___Late_blight\n",
      "🎉 Done. All new folders moved.\n"
     ]
    }
   ],
   "source": [
    "import zipfile\n",
    "import os\n",
    "import shutil\n",
    "\n",
    "zip_path = '/content/drive/MyDrive/plant_disease_project/plantdisease.zip'\n",
    "temp_dir = '/content/temp_extracted'\n",
    "target_dir = '/content/drive/MyDrive/plant_disease_project/plant_dataset/PlantVillage'\n",
    "\n",
    "# Step 1: Extract ZIP to temporary folder\n",
    "with zipfile.ZipFile(zip_path, 'r') as zip_ref:\n",
    "    zip_list = zip_ref.namelist()\n",
    "    print(f'Files to extract: {len(zip_list)}')\n",
    "    zip_ref.extractall(temp_dir)\n",
    "\n",
    "# Step 2: Create target folder if needed\n",
    "os.makedirs(target_dir, exist_ok=True)\n",
    "\n",
    "# Step 3: Move only new class folders that don't already exist in Drive\n",
    "source_dir = os.path.join(temp_dir, 'PlantVillage')\n",
    "for folder in os.listdir(source_dir):\n",
    "    src = os.path.join(source_dir, folder)\n",
    "    dst = os.path.join(target_dir, folder)\n",
    "\n",
    "    if not os.path.exists(dst):\n",
    "        shutil.move(src, dst)\n",
    "        print(f\"✅ Moved: {folder}\")\n",
    "    else:\n",
    "        print(f\"⏭️ Skipped (already exists): {folder}\")\n",
    "\n",
    "print(\"🎉 Done. All new folders moved.\")\n"
   ]
  },
  {
   "cell_type": "code",
   "execution_count": null,
   "metadata": {
    "colab": {
     "base_uri": "https://localhost:8080/"
    },
    "executionInfo": {
     "elapsed": 68,
     "status": "ok",
     "timestamp": 1746384213592,
     "user": {
      "displayName": "Ali",
      "userId": "14826493444208577740"
     },
     "user_tz": -180
    },
    "id": "VKOdiFUJZYyS",
    "outputId": "8e284df0-3b60-46ef-dce3-9b146da91ee0"
   },
   "outputs": [
    {
     "name": "stdout",
     "output_type": "stream",
     "text": [
      "Folders inside PlantVillage:\n",
      "['Potato___Early_blight', 'Pepper__bell___Bacterial_spot', 'Potato___healthy', 'Pepper__bell___healthy', 'Potato___Late_blight']\n"
     ]
    }
   ],
   "source": [
    "import os\n",
    "\n",
    "# Updated path to match your Drive folder\n",
    "dataset_dir = '/content/drive/MyDrive/plant_disease_project/plant_dataset/PlantVillage'\n",
    "\n",
    "# Print the class folders inside PlantVillage\n",
    "print(\"Folders inside PlantVillage:\")\n",
    "print(os.listdir(dataset_dir)[:5])"
   ]
  },
  {
   "cell_type": "code",
   "execution_count": null,
   "metadata": {
    "colab": {
     "base_uri": "https://localhost:8080/"
    },
    "executionInfo": {
     "elapsed": 43715,
     "status": "ok",
     "timestamp": 1746384265197,
     "user": {
      "displayName": "Ali",
      "userId": "14826493444208577740"
     },
     "user_tz": -180
    },
    "id": "bTq33uV4a0m3",
    "outputId": "17f09bf7-3b09-468c-8c8d-fe729ebc7394"
   },
   "outputs": [
    {
     "name": "stdout",
     "output_type": "stream",
     "text": [
      "Found 33027 images belonging to 15 classes.\n",
      "Found 8249 images belonging to 15 classes.\n"
     ]
    }
   ],
   "source": [
    "from tensorflow.keras.preprocessing.image import ImageDataGenerator\n",
    "\n",
    "img_size = 128  # Resize to 128x128 for speed\n",
    "\n",
    "datagen = ImageDataGenerator(\n",
    "    rescale=1./255,\n",
    "    validation_split=0.2,\n",
    "    rotation_range=20,\n",
    "    zoom_range=0.3,\n",
    "    shear_range=0.2,\n",
    "    horizontal_flip=True,\n",
    "    width_shift_range=0.2,\n",
    "    height_shift_range=0.2\n",
    ")\n",
    "\n",
    "train_generator = datagen.flow_from_directory(\n",
    "    '/content/drive/MyDrive/plant_disease_project/plant_dataset/PlantVillage',\n",
    "    target_size=(img_size, img_size),\n",
    "    batch_size=32,\n",
    "    class_mode='categorical',\n",
    "    subset='training'\n",
    ")\n",
    "\n",
    "val_generator = datagen.flow_from_directory(\n",
    "    '/content/drive/MyDrive/plant_disease_project/plant_dataset/PlantVillage',\n",
    "    target_size=(img_size, img_size),\n",
    "    batch_size=32,\n",
    "    class_mode='categorical',\n",
    "    subset='validation'\n",
    ")\n"
   ]
  },
  {
   "cell_type": "code",
   "execution_count": null,
   "metadata": {
    "colab": {
     "base_uri": "https://localhost:8080/"
    },
    "executionInfo": {
     "elapsed": 6218,
     "status": "ok",
     "timestamp": 1746384326639,
     "user": {
      "displayName": "Ali",
      "userId": "14826493444208577740"
     },
     "user_tz": -180
    },
    "id": "7Q9rpNCEbQyS",
    "outputId": "ab9630dc-601f-40f1-dc39-09b7cf57fcc7"
   },
   "outputs": [
    {
     "name": "stdout",
     "output_type": "stream",
     "text": [
      "Downloading data from https://storage.googleapis.com/tensorflow/keras-applications/mobilenet_v2/mobilenet_v2_weights_tf_dim_ordering_tf_kernels_1.0_128_no_top.h5\n",
      "\u001b[1m9406464/9406464\u001b[0m \u001b[32m━━━━━━━━━━━━━━━━━━━━\u001b[0m\u001b[37m\u001b[0m \u001b[1m2s\u001b[0m 0us/step\n"
     ]
    }
   ],
   "source": [
    "from tensorflow.keras.applications import MobileNetV2\n",
    "from tensorflow.keras.models import Model\n",
    "from tensorflow.keras.layers import GlobalAveragePooling2D, Dense, Dropout\n",
    "from tensorflow.keras.optimizers import Adam\n",
    "\n",
    "base_model = MobileNetV2(input_shape=(img_size, img_size, 3), include_top=False, weights='imagenet')\n",
    "base_model.trainable = False  # Freeze base\n",
    "\n",
    "x = base_model.output\n",
    "x = GlobalAveragePooling2D()(x)\n",
    "x = Dropout(0.3)(x)\n",
    "output = Dense(train_generator.num_classes, activation='softmax')(x)\n",
    "\n",
    "model = Model(inputs=base_model.input, outputs=output)\n",
    "model.compile(optimizer=Adam(), loss='categorical_crossentropy', metrics=['accuracy'])\n"
   ]
  },
  {
   "cell_type": "code",
   "execution_count": null,
   "metadata": {
    "id": "mbVkbnuRbXMN"
   },
   "outputs": [],
   "source": [
    "from tensorflow.keras.callbacks import EarlyStopping, ModelCheckpoint\n",
    "\n",
    "# Save best model to Drive\n",
    "checkpoint_path = \"/content/drive/MyDrive/plant_disease_project/model/best_model.h5\"\n",
    "\n",
    "early_stop = EarlyStopping(\n",
    "    monitor='val_loss', patience=3, restore_best_weights=True\n",
    ")\n",
    "\n",
    "model_checkpoint = ModelCheckpoint(\n",
    "    filepath=checkpoint_path,\n",
    "    monitor='val_accuracy',\n",
    "    save_best_only=True,\n",
    "    verbose=1\n",
    ")"
   ]
  },
  {
   "cell_type": "code",
   "execution_count": null,
   "metadata": {
    "colab": {
     "base_uri": "https://localhost:8080/",
     "height": 391
    },
    "executionInfo": {
     "elapsed": 219482,
     "status": "error",
     "timestamp": 1746385465503,
     "user": {
      "displayName": "Ali",
      "userId": "14826493444208577740"
     },
     "user_tz": -180
    },
    "id": "1QhUZqdqj7Of",
    "outputId": "1f668f41-eaef-4082-f772-386fb0193b45"
   },
   "outputs": [],
   "source": [
    "history = model.fit(\n",
    "    train_generator,\n",
    "    validation_data=val_generator,\n",
    "    epochs=20,\n",
    "    callbacks=[early_stop, model_checkpoint]\n",
    ")"
   ]
  },
  {
   "cell_type": "code",
   "execution_count": null,
   "metadata": {
    "id": "7U3pg-K--z97"
   },
   "outputs": [],
   "source": [
    "# Unfreeze last 30 layers of MobileNetV2 for fine-tuning\n",
    "for layer in base_model.layers[-30:]:\n",
    "    layer.trainable = True\n"
   ]
  },
  {
   "cell_type": "code",
   "execution_count": null,
   "metadata": {
    "id": "SFMkTtQW-zoa"
   },
   "outputs": [],
   "source": [
    "from tensorflow.keras.optimizers import Adam\n",
    "\n",
    "# Use a low learning rate to prevent big weight shifts\n",
    "model.compile(optimizer=Adam(learning_rate=1e-5),\n",
    "              loss='categorical_crossentropy',\n",
    "              metrics=['accuracy'])\n"
   ]
  },
  {
   "cell_type": "code",
   "execution_count": null,
   "metadata": {
    "colab": {
     "base_uri": "https://localhost:8080/",
     "height": 211
    },
    "executionInfo": {
     "elapsed": 19,
     "status": "error",
     "timestamp": 1746368850706,
     "user": {
      "displayName": "Ali",
      "userId": "14826493444208577740"
     },
     "user_tz": -180
    },
    "id": "I1nfvl9D-yzl",
    "outputId": "dd3e2a54-e821-4ab6-bbfa-ed2f26883f05"
   },
   "outputs": [],
   "source": [
    "# Continue training with fine-tuning\n",
    "history_fine = model.fit(\n",
    "    train_generator,\n",
    "    validation_data=val_generator,\n",
    "    epochs=10,  # Fine-tune for fewer epochs\n",
    "    callbacks=[early_stop, model_checkpoint]\n",
    ")"
   ]
  },
  {
   "cell_type": "code",
   "execution_count": null,
   "metadata": {
    "colab": {
     "base_uri": "https://localhost:8080/",
     "height": 927
    },
    "executionInfo": {
     "elapsed": 490,
     "status": "ok",
     "timestamp": 1746283254333,
     "user": {
      "displayName": "Ali",
      "userId": "14826493444208577740"
     },
     "user_tz": -180
    },
    "id": "qDryny9XbroG",
    "outputId": "a5a64e7f-7ba6-4d6e-bf4f-6cf570ccc831"
   },
   "outputs": [
    {
     "data": {
      "image/png": "[encoded data removed]",
      "text/plain": [
       "<Figure size 640x480 with 1 Axes>"
      ]
     },
     "metadata": {},
     "output_type": "display_data"
    },
    {
     "data": {
      "image/png": "[encoded data removed]",
      "text/plain": [
       "<Figure size 640x480 with 1 Axes>"
      ]
     },
     "metadata": {},
     "output_type": "display_data"
    }
   ],
   "source": [
    "import matplotlib.pyplot as plt\n",
    "\n",
    "# Accuracy\n",
    "plt.plot(history.history['accuracy'], label='Training Accuracy')\n",
    "plt.plot(history.history['val_accuracy'], label='Validation Accuracy')\n",
    "plt.title('Model Accuracy')\n",
    "plt.xlabel('Epoch')\n",
    "plt.ylabel('Accuracy')\n",
    "plt.legend()\n",
    "plt.grid(True)\n",
    "plt.show()\n",
    "\n",
    "# Loss\n",
    "plt.plot(history.history['loss'], label='Training Loss')\n",
    "plt.plot(history.history['val_loss'], label='Validation Loss')\n",
    "plt.title('Model Loss')\n",
    "plt.xlabel('Epoch')\n",
    "plt.ylabel('Loss')\n",
    "plt.legend()\n",
    "plt.grid(True)\n",
    "plt.show()"
   ]
  },
  {
   "cell_type": "code",
   "execution_count": null,
   "metadata": {
    "colab": {
     "base_uri": "https://localhost:8080/",
     "height": 158
    },
    "executionInfo": {
     "elapsed": 85,
     "status": "error",
     "timestamp": 1746368873758,
     "user": {
      "displayName": "Ali",
      "userId": "14826493444208577740"
     },
     "user_tz": -180
    },
    "id": "b1aeaX4Fgw3l",
    "outputId": "2688b3ae-2aed-4051-841b-6549d043cd70"
   },
   "outputs": [],
   "source": [
    "model.save('/content/drive/MyDrive/plant_disease_project/model/plant_disease_model.h5')\n",
    "print(\"Model saved successfully.\")"
   ]
  },
  {
   "cell_type": "code",
   "execution_count": null,
   "metadata": {
    "colab": {
     "base_uri": "https://localhost:8080/"
    },
    "executionInfo": {
     "elapsed": 4261,
     "status": "ok",
     "timestamp": 1746361799832,
     "user": {
      "displayName": "Ali",
      "userId": "14826493444208577740"
     },
     "user_tz": -180
    },
    "id": "KuXKXIgnRjlz",
    "outputId": "cb0e5595-5cc1-40ca-bec8-d4b08e36bece"
   },
   "outputs": [
    {
     "name": "stderr",
     "output_type": "stream",
     "text": [
      "WARNING:absl:Compiled the loaded model, but the compiled metrics have yet to be built. `model.compile_metrics` will be empty until you train or evaluate the model.\n"
     ]
    }
   ],
   "source": [
    "from tensorflow.keras.models import load_model\n",
    "\n",
    "# Load the best saved model\n",
    "model = load_model('/content/drive/MyDrive/plant_disease_project/model/best_model.h5')\n"
   ]
  },
  {
   "cell_type": "code",
   "execution_count": null,
   "metadata": {
    "colab": {
     "base_uri": "https://localhost:8080/"
    },
    "executionInfo": {
     "elapsed": 937,
     "status": "ok",
     "timestamp": 1746386709815,
     "user": {
      "displayName": "Ali",
      "userId": "14826493444208577740"
     },
     "user_tz": -180
    },
    "id": "4rHr_558g4iq",
    "outputId": "81e0ad24-0f06-4fc0-d35c-773e3db0a95e"
   },
   "outputs": [
    {
     "name": "stdout",
     "output_type": "stream",
     "text": [
      "\u001b[1m1/1\u001b[0m \u001b[32m━━━━━━━━━━━━━━━━━━━━\u001b[0m\u001b[37m\u001b[0m \u001b[1m0s\u001b[0m 34ms/step\n",
      "Predicted class: Tomato_Late_blight\n"
     ]
    }
   ],
   "source": [
    "import numpy as np\n",
    "import cv2\n",
    "\n",
    "img_path = '/content/drive/MyDrive/plant_disease_project/test_images/tomato2.jpg'\n",
    "img = cv2.imread(img_path)\n",
    "img = cv2.resize(img, (img_size, img_size))\n",
    "img = img / 255.0\n",
    "img = np.expand_dims(img, axis=0)\n",
    "\n",
    "prediction = model.predict(img)\n",
    "predicted_class = np.argmax(prediction)\n",
    "class_names = list(train_generator.class_indices.keys())\n",
    "\n",
    "print(\"Predicted class:\", class_names[predicted_class])"
   ]
  }
 ],
 "metadata": {
  "accelerator": "GPU",
  "colab": {
   "authorship_tag": "ABX9TyOJl6xuMwg0ATWjrb+TfKNg",
   "gpuType": "T4",
   "provenance": []
  },
  "kernelspec": {
   "display_name": "Python 3",
   "name": "python3"
  },
  "language_info": {
   "name": "python"
  }
 },
 "nbformat": 4,
 "nbformat_minor": 0
}
